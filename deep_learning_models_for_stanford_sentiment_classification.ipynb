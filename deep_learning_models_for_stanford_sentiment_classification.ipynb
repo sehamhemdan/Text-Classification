{
  "cells": [
    {
      "cell_type": "markdown",
      "metadata": {
        "id": "view-in-github",
        "colab_type": "text"
      },
      "source": [
        "<a href=\"https://colab.research.google.com/github/sehamhemdan/Text-Classification/blob/main/deep_learning_models_for_stanford_sentiment_classification.ipynb\" target=\"_parent\"><img src=\"https://colab.research.google.com/assets/colab-badge.svg\" alt=\"Open In Colab\"/></a>"
      ]
    },
    {
      "cell_type": "code",
      "execution_count": null,
      "metadata": {
        "id": "Ys8m7Us6wVZu"
      },
      "outputs": [],
      "source": [
        "import numpy as np # linear algebra\n",
        "import pandas as pd # data processing, CSV file I/O (e.g. pd.read_csv)\n",
        "from tqdm import tqdm\n",
        "from sklearn.model_selection import train_test_split\n",
        "import tensorflow as tf\n",
        "from keras.models import Sequential\n",
        "from keras.layers.recurrent import LSTM, GRU,SimpleRNN\n",
        "from keras.layers.core import Dense, Activation, Dropout\n",
        "from keras.layers.embeddings import Embedding\n",
        "from keras.layers.normalization.batch_normalization import BatchNormalization\n",
        "from keras.utils import np_utils\n",
        "from sklearn import preprocessing, decomposition, model_selection, metrics, pipeline\n",
        "from keras.layers import GlobalMaxPooling1D, Conv1D, MaxPooling1D, Flatten, Bidirectional, SpatialDropout1D\n",
        "from keras.preprocessing import sequence, text\n",
        "from keras.callbacks import EarlyStopping\n",
        "\n",
        "\n",
        "import matplotlib.pyplot as plt\n",
        "import seaborn as sns\n",
        "%matplotlib inline\n",
        "from plotly import graph_objs as go\n",
        "import plotly.express as px\n",
        "import plotly.figure_factory as ff"
      ]
    },
    {
      "cell_type": "code",
      "execution_count": null,
      "metadata": {
        "colab": {
          "base_uri": "https://localhost:8080/"
        },
        "id": "qp-FS5nCwVc0",
        "outputId": "cf0dfe87-5288-4773-e62a-0d660765feae"
      },
      "outputs": [
        {
          "data": {
            "text/plain": [
              "[]"
            ]
          },
          "execution_count": 2,
          "metadata": {},
          "output_type": "execute_result"
        }
      ],
      "source": [
        "tf.config.list_physical_devices('GPU') "
      ]
    },
    {
      "cell_type": "code",
      "execution_count": null,
      "metadata": {
        "id": "jAuDU6BpxgjP"
      },
      "outputs": [],
      "source": [
        ""
      ]
    },
    {
      "cell_type": "code",
      "execution_count": null,
      "metadata": {
        "colab": {
          "base_uri": "https://localhost:8080/"
        },
        "id": "rYbYvS0HO_Ex",
        "outputId": "16cd9908-f21f-4db1-8277-7342e1b37729"
      },
      "outputs": [
        {
          "name": "stdout",
          "output_type": "stream",
          "text": [
            "Mounted at /content/drive\n",
            "(1600000, 2)\n"
          ]
        }
      ],
      "source": [
        "from google.colab import drive\n",
        "drive.mount('/content/drive')\n",
        "working_dir_path ='/content/drive/MyDrive/preprocessedStanford_sentiment.csv'\n",
        "df = pd.read_csv(working_dir_path)\n",
        "#corpus.label = corpus.label.astype(int)\n",
        "print(df.shape)\n"
      ]
    },
    {
      "cell_type": "code",
      "execution_count": null,
      "metadata": {
        "id": "f274t976BIUs"
      },
      "outputs": [],
      "source": [
        "# load dataset\n",
        "#df=df.drop_duplicates(inplace = True)\n",
        "df = df.dropna(how='any',axis=0)"
      ]
    },
    {
      "cell_type": "code",
      "execution_count": null,
      "metadata": {
        "id": "bRNbSx6ZnWN5"
      },
      "outputs": [],
      "source": [
        "df['target'][df['target']==4]=1"
      ]
    },
    {
      "cell_type": "code",
      "execution_count": null,
      "metadata": {
        "id": "M-NE4fb6nWPu"
      },
      "outputs": [],
      "source": [
        "from traitlets.traitlets import default\n",
        "#Separating positive and negative tweets\n",
        "data_pos = df[df['target'] == 1]\n",
        "data_neg = df[df['target'] == 0]\n",
        "df = pd.concat([data_pos, data_neg])"
      ]
    },
    {
      "cell_type": "code",
      "execution_count": null,
      "metadata": {
        "id": "Vm0zRCVUrzcq"
      },
      "outputs": [],
      "source": [
        "# load dataset\n",
        "#df=df.drop_duplicates(inplace = True)\n",
        "df = df.dropna(how='any',axis=0)"
      ]
    },
    {
      "cell_type": "code",
      "execution_count": null,
      "metadata": {
        "colab": {
          "base_uri": "https://localhost:8080/",
          "height": 206
        },
        "id": "vyQbzJ-gO_Hf",
        "outputId": "8429835c-b0c2-4c62-b239-a33d52415c97"
      },
      "outputs": [
        {
          "data": {
            "text/html": [
              "\n",
              "  <div id=\"df-90875f69-ce6d-44c5-993a-735f8717b371\">\n",
              "    <div class=\"colab-df-container\">\n",
              "      <div>\n",
              "<style scoped>\n",
              "    .dataframe tbody tr th:only-of-type {\n",
              "        vertical-align: middle;\n",
              "    }\n",
              "\n",
              "    .dataframe tbody tr th {\n",
              "        vertical-align: top;\n",
              "    }\n",
              "\n",
              "    .dataframe thead th {\n",
              "        text-align: right;\n",
              "    }\n",
              "</style>\n",
              "<table border=\"1\" class=\"dataframe\">\n",
              "  <thead>\n",
              "    <tr style=\"text-align: right;\">\n",
              "      <th></th>\n",
              "      <th>target</th>\n",
              "      <th>new_text</th>\n",
              "    </tr>\n",
              "  </thead>\n",
              "  <tbody>\n",
              "    <tr>\n",
              "      <th>799995</th>\n",
              "      <td>0</td>\n",
              "      <td>sick spend day lay bed listen</td>\n",
              "    </tr>\n",
              "    <tr>\n",
              "      <th>799996</th>\n",
              "      <td>0</td>\n",
              "      <td>gmail down</td>\n",
              "    </tr>\n",
              "    <tr>\n",
              "      <th>799997</th>\n",
              "      <td>0</td>\n",
              "      <td>rest peac farrah sad</td>\n",
              "    </tr>\n",
              "    <tr>\n",
              "      <th>799998</th>\n",
              "      <td>0</td>\n",
              "      <td>sound like rival flag your ad not much you can...</td>\n",
              "    </tr>\n",
              "    <tr>\n",
              "      <th>799999</th>\n",
              "      <td>0</td>\n",
              "      <td>ha resit exam over summer wish work harder fir...</td>\n",
              "    </tr>\n",
              "  </tbody>\n",
              "</table>\n",
              "</div>\n",
              "      <button class=\"colab-df-convert\" onclick=\"convertToInteractive('df-90875f69-ce6d-44c5-993a-735f8717b371')\"\n",
              "              title=\"Convert this dataframe to an interactive table.\"\n",
              "              style=\"display:none;\">\n",
              "        \n",
              "  <svg xmlns=\"http://www.w3.org/2000/svg\" height=\"24px\"viewBox=\"0 0 24 24\"\n",
              "       width=\"24px\">\n",
              "    <path d=\"M0 0h24v24H0V0z\" fill=\"none\"/>\n",
              "    <path d=\"M18.56 5.44l.94 2.06.94-2.06 2.06-.94-2.06-.94-.94-2.06-.94 2.06-2.06.94zm-11 1L8.5 8.5l.94-2.06 2.06-.94-2.06-.94L8.5 2.5l-.94 2.06-2.06.94zm10 10l.94 2.06.94-2.06 2.06-.94-2.06-.94-.94-2.06-.94 2.06-2.06.94z\"/><path d=\"M17.41 7.96l-1.37-1.37c-.4-.4-.92-.59-1.43-.59-.52 0-1.04.2-1.43.59L10.3 9.45l-7.72 7.72c-.78.78-.78 2.05 0 2.83L4 21.41c.39.39.9.59 1.41.59.51 0 1.02-.2 1.41-.59l7.78-7.78 2.81-2.81c.8-.78.8-2.07 0-2.86zM5.41 20L4 18.59l7.72-7.72 1.47 1.35L5.41 20z\"/>\n",
              "  </svg>\n",
              "      </button>\n",
              "      \n",
              "  <style>\n",
              "    .colab-df-container {\n",
              "      display:flex;\n",
              "      flex-wrap:wrap;\n",
              "      gap: 12px;\n",
              "    }\n",
              "\n",
              "    .colab-df-convert {\n",
              "      background-color: #E8F0FE;\n",
              "      border: none;\n",
              "      border-radius: 50%;\n",
              "      cursor: pointer;\n",
              "      display: none;\n",
              "      fill: #1967D2;\n",
              "      height: 32px;\n",
              "      padding: 0 0 0 0;\n",
              "      width: 32px;\n",
              "    }\n",
              "\n",
              "    .colab-df-convert:hover {\n",
              "      background-color: #E2EBFA;\n",
              "      box-shadow: 0px 1px 2px rgba(60, 64, 67, 0.3), 0px 1px 3px 1px rgba(60, 64, 67, 0.15);\n",
              "      fill: #174EA6;\n",
              "    }\n",
              "\n",
              "    [theme=dark] .colab-df-convert {\n",
              "      background-color: #3B4455;\n",
              "      fill: #D2E3FC;\n",
              "    }\n",
              "\n",
              "    [theme=dark] .colab-df-convert:hover {\n",
              "      background-color: #434B5C;\n",
              "      box-shadow: 0px 1px 3px 1px rgba(0, 0, 0, 0.15);\n",
              "      filter: drop-shadow(0px 1px 2px rgba(0, 0, 0, 0.3));\n",
              "      fill: #FFFFFF;\n",
              "    }\n",
              "  </style>\n",
              "\n",
              "      <script>\n",
              "        const buttonEl =\n",
              "          document.querySelector('#df-90875f69-ce6d-44c5-993a-735f8717b371 button.colab-df-convert');\n",
              "        buttonEl.style.display =\n",
              "          google.colab.kernel.accessAllowed ? 'block' : 'none';\n",
              "\n",
              "        async function convertToInteractive(key) {\n",
              "          const element = document.querySelector('#df-90875f69-ce6d-44c5-993a-735f8717b371');\n",
              "          const dataTable =\n",
              "            await google.colab.kernel.invokeFunction('convertToInteractive',\n",
              "                                                     [key], {});\n",
              "          if (!dataTable) return;\n",
              "\n",
              "          const docLinkHtml = 'Like what you see? Visit the ' +\n",
              "            '<a target=\"_blank\" href=https://colab.research.google.com/notebooks/data_table.ipynb>data table notebook</a>'\n",
              "            + ' to learn more about interactive tables.';\n",
              "          element.innerHTML = '';\n",
              "          dataTable['output_type'] = 'display_data';\n",
              "          await google.colab.output.renderOutput(dataTable, element);\n",
              "          const docLink = document.createElement('div');\n",
              "          docLink.innerHTML = docLinkHtml;\n",
              "          element.appendChild(docLink);\n",
              "        }\n",
              "      </script>\n",
              "    </div>\n",
              "  </div>\n",
              "  "
            ],
            "text/plain": [
              "        target                                           new_text\n",
              "799995       0                      sick spend day lay bed listen\n",
              "799996       0                                         gmail down\n",
              "799997       0                               rest peac farrah sad\n",
              "799998       0  sound like rival flag your ad not much you can...\n",
              "799999       0  ha resit exam over summer wish work harder fir..."
            ]
          },
          "execution_count": 8,
          "metadata": {},
          "output_type": "execute_result"
        }
      ],
      "source": [
        "# convert label to a numerical variable\n",
        "##df['label'] = df.airline_sentiment.map({'positive':2, 'neutral':1,'negative':0})\n",
        "df.tail()"
      ]
    },
    {
      "cell_type": "code",
      "execution_count": null,
      "metadata": {
        "colab": {
          "base_uri": "https://localhost:8080/"
        },
        "id": "9-kER87xuobT",
        "outputId": "0b81745e-462e-48d0-c8bc-894fbd3d4818"
      },
      "outputs": [
        {
          "name": "stdout",
          "output_type": "stream",
          "text": [
            "797483 797847\n"
          ]
        }
      ],
      "source": [
        "# Separating positive and negative rows\n",
        "df_pos = df[df['target'] == 1]\n",
        "df_neg = df[df['target'] == 0]\n",
        "print(len(df_pos), len(df_neg))"
      ]
    },
    {
      "cell_type": "code",
      "execution_count": null,
      "metadata": {
        "colab": {
          "base_uri": "https://localhost:8080/"
        },
        "id": "CnouokTxuoes",
        "outputId": "847eb944-57cb-4bc6-d8ba-b53a9e2e5bdb"
      },
      "outputs": [
        {
          "name": "stdout",
          "output_type": "stream",
          "text": [
            "199370 199461\n"
          ]
        }
      ],
      "source": [
        "# Only retaining 1/4th of our data from each output group\n",
        "# Feel free to alter the dividing factor depending on your workspace\n",
        "# 1/64 is a good place to start if you're unsure about your machine's power\n",
        "df_pos = df_pos.iloc[:int(len(df_pos)/4)]\n",
        "df_neg = df_neg.iloc[:int(len(df_neg)/4)]\n",
        "print(len(df_pos), len(df_neg))"
      ]
    },
    {
      "cell_type": "code",
      "execution_count": null,
      "metadata": {
        "colab": {
          "base_uri": "https://localhost:8080/"
        },
        "id": "l-y-oSUWvhpj",
        "outputId": "1f209240-24d5-467b-b96b-a7c4934fbf28"
      },
      "outputs": [
        {
          "data": {
            "text/plain": [
              "398831"
            ]
          },
          "execution_count": 11,
          "metadata": {},
          "output_type": "execute_result"
        }
      ],
      "source": [
        "# Concatinating both positive and negative groups and storing them back into a single dataframe\n",
        "df = pd.concat([df_pos, df_neg])\n",
        "len(df)"
      ]
    },
    {
      "cell_type": "code",
      "execution_count": null,
      "metadata": {
        "id": "hkGA2el2O_Kv"
      },
      "outputs": [],
      "source": [
        "from sklearn.model_selection import train_test_split\n",
        "xtrain, xvalid, ytrain, yvalid = train_test_split(df['new_text'], df['target'], test_size = 0.2, stratify = df['target'])"
      ]
    },
    {
      "cell_type": "code",
      "execution_count": null,
      "metadata": {
        "colab": {
          "base_uri": "https://localhost:8080/"
        },
        "id": "j2Iz2dePayL9",
        "outputId": "102e6ab0-2898-49ef-a1ca-5f5c0fff1ce7"
      },
      "outputs": [
        {
          "data": {
            "text/plain": [
              "(319064,)"
            ]
          },
          "execution_count": 13,
          "metadata": {},
          "output_type": "execute_result"
        }
      ],
      "source": [
        "xtrain.shape"
      ]
    },
    {
      "cell_type": "code",
      "execution_count": null,
      "metadata": {
        "colab": {
          "base_uri": "https://localhost:8080/"
        },
        "id": "SEkkSCrha4-v",
        "outputId": "3db1a35b-cf51-48a0-a5cc-c8e79a9bf0a0"
      },
      "outputs": [
        {
          "data": {
            "text/plain": [
              "(79767,)"
            ]
          },
          "execution_count": 14,
          "metadata": {},
          "output_type": "execute_result"
        }
      ],
      "source": [
        "xvalid.shape"
      ]
    },
    {
      "cell_type": "code",
      "execution_count": null,
      "metadata": {
        "colab": {
          "base_uri": "https://localhost:8080/"
        },
        "id": "h1m_zLa2xg9T",
        "outputId": "5c1f2588-d7ab-4fc7-db36-c03fceeca145"
      },
      "outputs": [
        {
          "data": {
            "text/plain": [
              "29"
            ]
          },
          "execution_count": 15,
          "metadata": {},
          "output_type": "execute_result"
        }
      ],
      "source": [
        "df['new_text'].apply(lambda x:len(str(x).split())).max()"
      ]
    },
    {
      "cell_type": "code",
      "execution_count": null,
      "metadata": {
        "id": "mhugOMxCxhAB"
      },
      "outputs": [],
      "source": [
        "def roc_auc(predictions,target):\n",
        "    '''\n",
        "    This methods returns the AUC Score when given the Predictions\n",
        "    and Labels\n",
        "    '''\n",
        "    \n",
        "    fpr, tpr, thresholds = metrics.roc_curve(target, predictions)\n",
        "    roc_auc = metrics.auc(fpr, tpr)\n",
        "    return roc_auc"
      ]
    },
    {
      "cell_type": "code",
      "execution_count": null,
      "metadata": {
        "id": "7rz4z7gnyTcA"
      },
      "outputs": [],
      "source": [
        "# using keras tokenizer here\n",
        "token = text.Tokenizer(num_words=None)\n",
        "max_len = 35\n",
        "\n",
        "token.fit_on_texts(list(xtrain) + list(xvalid))\n",
        "xtrain_seq = token.texts_to_sequences(xtrain)\n",
        "xvalid_seq = token.texts_to_sequences(xvalid)\n",
        "\n",
        "#zero pad the sequences\n",
        "xtrain_pad = sequence.pad_sequences(xtrain_seq, maxlen=max_len)\n",
        "xvalid_pad = sequence.pad_sequences(xvalid_seq, maxlen=max_len)\n",
        "\n",
        "word_index = token.word_index"
      ]
    },
    {
      "cell_type": "code",
      "execution_count": null,
      "metadata": {
        "colab": {
          "base_uri": "https://localhost:8080/"
        },
        "id": "27XnkA2dy-3f",
        "outputId": "61bfd7ea-d25b-4ef1-bbb3-0a23c913fd30"
      },
      "outputs": [
        {
          "name": "stdout",
          "output_type": "stream",
          "text": [
            "Model: \"sequential_1\"\n",
            "_________________________________________________________________\n",
            " Layer (type)                Output Shape              Param #   \n",
            "=================================================================\n",
            " embedding_1 (Embedding)     (None, 35, 100)           10065900  \n",
            "                                                                 \n",
            " simple_rnn_1 (SimpleRNN)    (None, 100)               20100     \n",
            "                                                                 \n",
            " dense_1 (Dense)             (None, 1)                 101       \n",
            "                                                                 \n",
            "=================================================================\n",
            "Total params: 10,086,101\n",
            "Trainable params: 10,086,101\n",
            "Non-trainable params: 0\n",
            "_________________________________________________________________\n",
            "CPU times: user 243 ms, sys: 1.92 ms, total: 245 ms\n",
            "Wall time: 201 ms\n"
          ]
        }
      ],
      "source": [
        "%%time\n",
        "\n",
        "# A simpleRNN without any pretrained embeddings and one dense layer\n",
        "model = Sequential()\n",
        "model.add(Embedding(len(word_index) + 1,100,input_length=max_len))\n",
        "model.add(SimpleRNN(100))\n",
        "model.add(Dense(1, activation='sigmoid'))\n",
        "model.compile(loss='binary_crossentropy', optimizer='adam', metrics=['accuracy'])\n",
        "    \n",
        "model.summary()"
      ]
    },
    {
      "cell_type": "code",
      "execution_count": null,
      "metadata": {
        "id": "x1bhdhPY_DyY"
      },
      "outputs": [],
      "source": [
        "#EarlyStopping and ModelCheckpoint\n",
        "tf.random.set_seed(7)\n",
        "from keras.callbacks import EarlyStopping, ModelCheckpoint\n",
        "\n",
        "\n",
        "es = EarlyStopping(monitor = 'val_loss', mode = 'auto', verbose = 2, patience = 2)\n",
        "mc = ModelCheckpoint('./model.h5', monitor = 'val_accuracy', mode = 'max', verbose = 1, save_best_only = True)"
      ]
    },
    {
      "cell_type": "code",
      "execution_count": null,
      "metadata": {
        "colab": {
          "base_uri": "https://localhost:8080/"
        },
        "id": "fnsY5_ld_DyZ",
        "outputId": "0cf121f3-4783-4f33-97d8-a1e0fce3435c"
      },
      "outputs": [
        {
          "name": "stdout",
          "output_type": "stream",
          "text": [
            "Epoch 1/4\n",
            "2493/2493 [==============================] - ETA: 0s - loss: 0.4858 - accuracy: 0.7659\n",
            "Epoch 1: val_accuracy improved from -inf to 0.78499, saving model to ./model.h5\n",
            "2493/2493 [==============================] - 368s 147ms/step - loss: 0.4858 - accuracy: 0.7659 - val_loss: 0.4589 - val_accuracy: 0.7850\n",
            "Epoch 2/4\n",
            "2493/2493 [==============================] - ETA: 0s - loss: 0.4063 - accuracy: 0.8176\n",
            "Epoch 2: val_accuracy did not improve from 0.78499\n",
            "2493/2493 [==============================] - 300s 120ms/step - loss: 0.4063 - accuracy: 0.8176 - val_loss: 0.4661 - val_accuracy: 0.7838\n",
            "Epoch 3/4\n",
            "2493/2493 [==============================] - ETA: 0s - loss: 0.3350 - accuracy: 0.8548\n",
            "Epoch 3: val_accuracy did not improve from 0.78499\n",
            "2493/2493 [==============================] - 297s 119ms/step - loss: 0.3350 - accuracy: 0.8548 - val_loss: 0.5022 - val_accuracy: 0.7695\n",
            "Epoch 3: early stopping\n",
            "CPU times: user 25min 47s, sys: 37.9 s, total: 26min 25s\n",
            "Wall time: 16min 4s\n"
          ]
        }
      ],
      "source": [
        "%%time\n",
        "history_embedding = model.fit(xtrain_pad,ytrain, epochs = 4, batch_size = 128,\n",
        "                              validation_data=(xvalid_pad, yvalid),verbose = 1, callbacks= [es, mc]  )"
      ]
    },
    {
      "cell_type": "code",
      "execution_count": null,
      "metadata": {
        "colab": {
          "base_uri": "https://localhost:8080/",
          "height": 279
        },
        "id": "RL2pLE1QL90T",
        "outputId": "5fc21ad7-394b-4012-e201-ac563abde1bb"
      },
      "outputs": [
        {
          "data": {
            "image/png": "[encoded data removed]",
            "text/plain": [
              "<Figure size 432x288 with 1 Axes>"
            ]
          },
          "metadata": {},
          "output_type": "display_data"
        }
      ],
      "source": [
        "plt.plot(history_embedding.history['accuracy'],c='b',label='train accuracy')\n",
        "plt.plot(history_embedding.history['val_accuracy'],c='r',label='validation accuracy')\n",
        "plt.legend(loc='lower right')\n",
        "plt.ylabel(\"Accuracy Value\")\n",
        "plt.xlabel(\"no.epoch\")\n",
        "plt.savefig(\"SNN_Acc_d2.png\")\n",
        "plt.show()"
      ]
    },
    {
      "cell_type": "code",
      "execution_count": null,
      "metadata": {
        "colab": {
          "base_uri": "https://localhost:8080/",
          "height": 279
        },
        "id": "mkCkokSKL90U",
        "outputId": "b855ddd3-6035-4e0a-cfba-5bb72f73f1e3"
      },
      "outputs": [
        {
          "data": {
            "image/png": "[encoded data removed]",
            "text/plain": [
              "<Figure size 432x288 with 1 Axes>"
            ]
          },
          "metadata": {},
          "output_type": "display_data"
        }
      ],
      "source": [
        "plt.plot(history_embedding.history['loss'],c='b',label='train loss')\n",
        "plt.plot(history_embedding.history['val_loss'],c='r',label='validation loss')\n",
        "plt.legend(loc='upper right')\n",
        "plt.ylabel(\"LOSS Value\")\n",
        "plt.xlabel(\"no.epoch\")\n",
        "plt.savefig(\"SNN_LOSS_d2.png\")\n",
        "plt.show()"
      ]
    },
    {
      "cell_type": "code",
      "execution_count": null,
      "metadata": {
        "id": "3WSLHPT83fAb"
      },
      "outputs": [],
      "source": [
        "preds=model.predict(xvalid_pad)"
      ]
    },
    {
      "cell_type": "code",
      "execution_count": null,
      "metadata": {
        "colab": {
          "base_uri": "https://localhost:8080/"
        },
        "id": "OBXF4rEuwSv7",
        "outputId": "fcaaf755-4306-40f7-f051-3bf2a045f785"
      },
      "outputs": [
        {
          "name": "stdout",
          "output_type": "stream",
          "text": [
            "0.2500595484348164\n",
            "0.5\n",
            "0.33338626107304026\n"
          ]
        },
        {
          "name": "stderr",
          "output_type": "stream",
          "text": [
            "/usr/local/lib/python3.7/dist-packages/sklearn/metrics/_classification.py:1318: UndefinedMetricWarning: Precision is ill-defined and being set to 0.0 in labels with no predicted samples. Use `zero_division` parameter to control this behavior.\n",
            "  _warn_prf(average, modifier, msg_start, len(result))\n"
          ]
        }
      ],
      "source": [
        "from sklearn.metrics import f1_score\n",
        "\n",
        "from sklearn.metrics import f1_score, precision_score, recall_score, confusion_matrix\n",
        "y_pred = np.argmax(preds, axis=1)\n",
        "\n",
        "# Print f1, precision, and recall scores\n",
        "print(precision_score(yvalid, y_pred , average=\"macro\"))\n",
        "print(recall_score(yvalid, y_pred , average=\"macro\"))\n",
        "print(f1_score(yvalid, y_pred , average=\"macro\"))"
      ]
    },
    {
      "cell_type": "code",
      "execution_count": null,
      "metadata": {
        "colab": {
          "base_uri": "https://localhost:8080/"
        },
        "id": "kFDHZIZwynfS",
        "outputId": "1cdac219-ba26-47f8-d1c1-c6b805f59449"
      },
      "outputs": [
        {
          "name": "stdout",
          "output_type": "stream",
          "text": [
            "Auc: 0.85%\n"
          ]
        }
      ],
      "source": [
        "scores = model.predict(xvalid_pad)\n",
        "print(\"Auc: %.2f%%\" % (roc_auc(scores,yvalid)))"
      ]
    },
    {
      "cell_type": "code",
      "execution_count": null,
      "metadata": {
        "id": "7KWvtOEEQdFJ"
      },
      "outputs": [],
      "source": [
        "scores_model = []"
      ]
    },
    {
      "cell_type": "code",
      "execution_count": null,
      "metadata": {
        "id": "VemJFLmT175A"
      },
      "outputs": [],
      "source": [
        "\n",
        "scores_model.append({'Model': 'SimpleRNN','AUC_Score': roc_auc(scores,yvalid)})"
      ]
    },
    {
      "cell_type": "code",
      "execution_count": null,
      "metadata": {
        "colab": {
          "base_uri": "https://localhost:8080/"
        },
        "id": "PxCdWM_YK0OS",
        "outputId": "0b966a1c-607a-4765-d3d7-bc537e79f187"
      },
      "outputs": [
        {
          "name": "stdout",
          "output_type": "stream",
          "text": [
            "--2022-07-05 06:28:31--  http://nlp.stanford.edu/data/glove.6B.zip\n",
            "Resolving nlp.stanford.edu (nlp.stanford.edu)... 171.64.67.140\n",
            "Connecting to nlp.stanford.edu (nlp.stanford.edu)|171.64.67.140|:80... connected.\n",
            "HTTP request sent, awaiting response... 302 Found\n",
            "Location: https://nlp.stanford.edu/data/glove.6B.zip [following]\n",
            "--2022-07-05 06:28:31--  https://nlp.stanford.edu/data/glove.6B.zip\n",
            "Connecting to nlp.stanford.edu (nlp.stanford.edu)|171.64.67.140|:443... connected.\n",
            "HTTP request sent, awaiting response... 301 Moved Permanently\n",
            "Location: https://downloads.cs.stanford.edu/nlp/data/glove.6B.zip [following]\n",
            "--2022-07-05 06:28:31--  https://downloads.cs.stanford.edu/nlp/data/glove.6B.zip\n",
            "Resolving downloads.cs.stanford.edu (downloads.cs.stanford.edu)... 171.64.64.22\n",
            "Connecting to downloads.cs.stanford.edu (downloads.cs.stanford.edu)|171.64.64.22|:443... connected.\n",
            "HTTP request sent, awaiting response... 200 OK\n",
            "Length: 862182613 (822M) [application/zip]\n",
            "Saving to: ‘glove.6B.zip’\n",
            "\n",
            "glove.6B.zip        100%[===================>] 822.24M  5.10MB/s    in 2m 40s  \n",
            "\n",
            "2022-07-05 06:31:11 (5.15 MB/s) - ‘glove.6B.zip’ saved [862182613/862182613]\n",
            "\n"
          ]
        }
      ],
      "source": [
        "!wget http://nlp.stanford.edu/data/glove.6B.zip"
      ]
    },
    {
      "cell_type": "code",
      "execution_count": null,
      "metadata": {
        "colab": {
          "base_uri": "https://localhost:8080/"
        },
        "id": "a07UUvesK5wx",
        "outputId": "f6edbd99-6c9f-4761-d5b4-25fc0eba851d"
      },
      "outputs": [
        {
          "name": "stdout",
          "output_type": "stream",
          "text": [
            "Archive:  glove.6B.zip\n",
            "  inflating: glove.6B.50d.txt        \n",
            "  inflating: glove.6B.100d.txt       \n",
            "  inflating: glove.6B.200d.txt       \n",
            "  inflating: glove.6B.300d.txt       \n"
          ]
        }
      ],
      "source": [
        "!unzip glove*.zip"
      ]
    },
    {
      "cell_type": "code",
      "execution_count": null,
      "metadata": {
        "colab": {
          "base_uri": "https://localhost:8080/"
        },
        "id": "5bjOjbOCK5z-",
        "outputId": "56ac9617-5f5f-4618-8b7e-a13235e7ae49"
      },
      "outputs": [
        {
          "name": "stdout",
          "output_type": "stream",
          "text": [
            "drive\t\t   glove.6B.200d.txt  glove.6B.50d.txt\tsample_data\n",
            "glove.6B.100d.txt  glove.6B.300d.txt  glove.6B.zip\n",
            "/content\n"
          ]
        }
      ],
      "source": [
        "!ls\n",
        "!pwd"
      ]
    },
    {
      "cell_type": "code",
      "execution_count": null,
      "metadata": {
        "colab": {
          "base_uri": "https://localhost:8080/"
        },
        "id": "xYLCGN-C178S",
        "outputId": "9ca8a02f-77fd-4a56-9584-e52c354bb737"
      },
      "outputs": [
        {
          "name": "stderr",
          "output_type": "stream",
          "text": [
            "400000it [00:42, 9464.81it/s]"
          ]
        },
        {
          "name": "stdout",
          "output_type": "stream",
          "text": [
            "Found 400000 word vectors.\n"
          ]
        },
        {
          "name": "stderr",
          "output_type": "stream",
          "text": [
            "\n"
          ]
        }
      ],
      "source": [
        "# load the GloVe vectors in a dictionary:\n",
        "\n",
        "embeddings_index = {}\n",
        "f = open('/content/glove.6B.300d.txt','r',encoding='utf-8')\n",
        "for line in tqdm(f):\n",
        "    values = line.split(' ')\n",
        "    word = values[0]\n",
        "    coefs = np.asarray([float(val) for val in values[1:]])\n",
        "    embeddings_index[word] = coefs\n",
        "f.close()\n",
        "\n",
        "print('Found %s word vectors.' % len(embeddings_index))"
      ]
    },
    {
      "cell_type": "code",
      "execution_count": null,
      "metadata": {
        "colab": {
          "base_uri": "https://localhost:8080/"
        },
        "id": "haax4FrU17_X",
        "outputId": "47489f09-0f5e-4fff-884c-67e29e1ac893"
      },
      "outputs": [
        {
          "name": "stderr",
          "output_type": "stream",
          "text": [
            "100%|██████████| 100658/100658 [00:00<00:00, 535758.79it/s]\n"
          ]
        }
      ],
      "source": [
        "# create an embedding matrix for the words we have in the dataset\n",
        "embedding_matrix = np.zeros((len(word_index) + 1, 300))\n",
        "for word, i in tqdm(word_index.items()):\n",
        "    embedding_vector = embeddings_index.get(word)\n",
        "    if embedding_vector is not None:\n",
        "        embedding_matrix[i] = embedding_vector"
      ]
    },
    {
      "cell_type": "code",
      "execution_count": null,
      "metadata": {
        "colab": {
          "base_uri": "https://localhost:8080/"
        },
        "id": "3PZAUpcOLfbf",
        "outputId": "426b6123-6fff-4a37-e567-9aeea15f8e49"
      },
      "outputs": [
        {
          "name": "stdout",
          "output_type": "stream",
          "text": [
            "Model: \"sequential_2\"\n",
            "_________________________________________________________________\n",
            " Layer (type)                Output Shape              Param #   \n",
            "=================================================================\n",
            " embedding_2 (Embedding)     (None, 35, 300)           30197700  \n",
            "                                                                 \n",
            " lstm (LSTM)                 (None, 100)               160400    \n",
            "                                                                 \n",
            " dense_2 (Dense)             (None, 1)                 101       \n",
            "                                                                 \n",
            "=================================================================\n",
            "Total params: 30,358,201\n",
            "Trainable params: 160,501\n",
            "Non-trainable params: 30,197,700\n",
            "_________________________________________________________________\n",
            "CPU times: user 633 ms, sys: 287 ms, total: 919 ms\n",
            "Wall time: 655 ms\n"
          ]
        }
      ],
      "source": [
        "%%time\n",
        "\n",
        "    \n",
        "# A simple LSTM with glove embeddings and one dense layer\n",
        "model = Sequential()\n",
        "model.add(Embedding(len(word_index) + 1,300,\n",
        "                     weights=[embedding_matrix],\n",
        "                     input_length=max_len,\n",
        "                     trainable=False))\n",
        "\n",
        "model.add(LSTM(100, dropout=0.3, recurrent_dropout=0.3))\n",
        "model.add(Dense(1, activation='sigmoid'))\n",
        "model.compile(loss='binary_crossentropy', optimizer='adam',metrics=['accuracy'])\n",
        "    \n",
        "model.summary()"
      ]
    },
    {
      "cell_type": "code",
      "execution_count": null,
      "metadata": {
        "id": "0UcLhIPO3EGT"
      },
      "outputs": [],
      "source": [
        "#EarlyStopping and ModelCheckpoint\n",
        "tf.random.set_seed(7)\n",
        "from keras.callbacks import EarlyStopping, ModelCheckpoint\n",
        "\n",
        "\n",
        "es = EarlyStopping(monitor = 'val_loss', mode = 'auto', verbose = 2, patience = 5)\n",
        "mc = ModelCheckpoint('./model.h5', monitor = 'val_accuracy', mode = 'max', verbose = 1, save_best_only = True)"
      ]
    },
    {
      "cell_type": "code",
      "execution_count": null,
      "metadata": {
        "colab": {
          "base_uri": "https://localhost:8080/"
        },
        "id": "htu1fNRo3EGU",
        "outputId": "50cbc861-4a33-41aa-c712-ac5c6f2c81c4"
      },
      "outputs": [
        {
          "name": "stdout",
          "output_type": "stream",
          "text": [
            "Epoch 1/20\n",
            "2493/2493 [==============================] - ETA: 0s - loss: 0.5236 - accuracy: 0.7360\n",
            "Epoch 1: val_accuracy improved from -inf to 0.76604, saving model to ./model.h5\n",
            "2493/2493 [==============================] - 636s 254ms/step - loss: 0.5236 - accuracy: 0.7360 - val_loss: 0.4832 - val_accuracy: 0.7660\n",
            "Epoch 2/20\n",
            "2493/2493 [==============================] - ETA: 0s - loss: 0.4779 - accuracy: 0.7688\n",
            "Epoch 2: val_accuracy improved from 0.76604 to 0.77708, saving model to ./model.h5\n",
            "2493/2493 [==============================] - 632s 254ms/step - loss: 0.4779 - accuracy: 0.7688 - val_loss: 0.4642 - val_accuracy: 0.7771\n",
            "Epoch 3/20\n",
            "2493/2493 [==============================] - ETA: 0s - loss: 0.4623 - accuracy: 0.7776\n",
            "Epoch 3: val_accuracy improved from 0.77708 to 0.78174, saving model to ./model.h5\n",
            "2493/2493 [==============================] - 631s 253ms/step - loss: 0.4623 - accuracy: 0.7776 - val_loss: 0.4587 - val_accuracy: 0.7817\n",
            "Epoch 4/20\n",
            "2493/2493 [==============================] - ETA: 0s - loss: 0.4521 - accuracy: 0.7845\n",
            "Epoch 4: val_accuracy improved from 0.78174 to 0.78460, saving model to ./model.h5\n",
            "2493/2493 [==============================] - 633s 254ms/step - loss: 0.4521 - accuracy: 0.7845 - val_loss: 0.4553 - val_accuracy: 0.7846\n",
            "Epoch 5/20\n",
            "2493/2493 [==============================] - ETA: 0s - loss: 0.4451 - accuracy: 0.7886\n",
            "Epoch 5: val_accuracy improved from 0.78460 to 0.78476, saving model to ./model.h5\n",
            "2493/2493 [==============================] - 635s 255ms/step - loss: 0.4451 - accuracy: 0.7886 - val_loss: 0.4526 - val_accuracy: 0.7848\n",
            "Epoch 6/20\n",
            "2493/2493 [==============================] - ETA: 0s - loss: 0.4394 - accuracy: 0.7920\n",
            "Epoch 6: val_accuracy improved from 0.78476 to 0.78665, saving model to ./model.h5\n",
            "2493/2493 [==============================] - 631s 253ms/step - loss: 0.4394 - accuracy: 0.7920 - val_loss: 0.4536 - val_accuracy: 0.7867\n",
            "Epoch 7/20\n",
            "2493/2493 [==============================] - ETA: 0s - loss: 0.4337 - accuracy: 0.7957\n",
            "Epoch 7: val_accuracy improved from 0.78665 to 0.78739, saving model to ./model.h5\n",
            "2493/2493 [==============================] - 640s 257ms/step - loss: 0.4337 - accuracy: 0.7957 - val_loss: 0.4515 - val_accuracy: 0.7874\n",
            "Epoch 8/20\n",
            "2493/2493 [==============================] - ETA: 0s - loss: 0.4298 - accuracy: 0.7976\n",
            "Epoch 8: val_accuracy did not improve from 0.78739\n",
            "2493/2493 [==============================] - 638s 256ms/step - loss: 0.4298 - accuracy: 0.7976 - val_loss: 0.4550 - val_accuracy: 0.7857\n",
            "Epoch 9/20\n",
            "2493/2493 [==============================] - ETA: 0s - loss: 0.4263 - accuracy: 0.8005\n",
            "Epoch 9: val_accuracy improved from 0.78739 to 0.78747, saving model to ./model.h5\n",
            "2493/2493 [==============================] - 637s 256ms/step - loss: 0.4263 - accuracy: 0.8005 - val_loss: 0.4534 - val_accuracy: 0.7875\n",
            "Epoch 10/20\n",
            "2493/2493 [==============================] - ETA: 0s - loss: 0.4232 - accuracy: 0.8013\n",
            "Epoch 10: val_accuracy improved from 0.78747 to 0.78751, saving model to ./model.h5\n",
            "2493/2493 [==============================] - 646s 259ms/step - loss: 0.4232 - accuracy: 0.8013 - val_loss: 0.4549 - val_accuracy: 0.7875\n",
            "Epoch 11/20\n",
            "2493/2493 [==============================] - ETA: 0s - loss: 0.4216 - accuracy: 0.8026\n",
            "Epoch 11: val_accuracy improved from 0.78751 to 0.78858, saving model to ./model.h5\n",
            "2493/2493 [==============================] - 636s 255ms/step - loss: 0.4216 - accuracy: 0.8026 - val_loss: 0.4548 - val_accuracy: 0.7886\n",
            "Epoch 12/20\n",
            "2493/2493 [==============================] - ETA: 0s - loss: 0.4190 - accuracy: 0.8041\n",
            "Epoch 12: val_accuracy improved from 0.78858 to 0.78935, saving model to ./model.h5\n",
            "2493/2493 [==============================] - 628s 252ms/step - loss: 0.4190 - accuracy: 0.8041 - val_loss: 0.4536 - val_accuracy: 0.7893\n",
            "Epoch 12: early stopping\n",
            "CPU times: user 3h 37min 5s, sys: 15min 48s, total: 3h 52min 53s\n",
            "Wall time: 2h 7min 2s\n"
          ]
        }
      ],
      "source": [
        "%%time\n",
        "history_embedding = model.fit(xtrain_pad,ytrain, epochs = 20, batch_size = 128,\n",
        "                              validation_data=(xvalid_pad, yvalid),verbose = 1, callbacks= [es, mc]  )"
      ]
    },
    {
      "cell_type": "code",
      "execution_count": null,
      "metadata": {
        "colab": {
          "base_uri": "https://localhost:8080/",
          "height": 279
        },
        "id": "d-d8lf823EGV",
        "outputId": "8e89fb66-d4b3-4f31-9d81-eb72fc2b6790"
      },
      "outputs": [
        {
          "data": {
            "image/png": "[encoded data removed]",
            "text/plain": [
              "<Figure size 432x288 with 1 Axes>"
            ]
          },
          "metadata": {},
          "output_type": "display_data"
        }
      ],
      "source": [
        "plt.plot(history_embedding.history['accuracy'],c='b',label='train accuracy')\n",
        "plt.plot(history_embedding.history['val_accuracy'],c='r',label='validation accuracy')\n",
        "plt.legend(loc='lower right')\n",
        "plt.ylabel(\"Accuracy Value\")\n",
        "plt.xlabel(\"no.epoch\")\n",
        "plt.savefig(\"LSTM_Acc_d2.png\")\n",
        "plt.show()"
      ]
    },
    {
      "cell_type": "code",
      "execution_count": null,
      "metadata": {
        "colab": {
          "base_uri": "https://localhost:8080/",
          "height": 279
        },
        "id": "0YsbDuv73EGW",
        "outputId": "fcaba880-9368-42e5-da04-0af6d5d52ddf"
      },
      "outputs": [
        {
          "data": {
            "image/png": "[encoded data removed]",
            "text/plain": [
              "<Figure size 432x288 with 1 Axes>"
            ]
          },
          "metadata": {},
          "output_type": "display_data"
        }
      ],
      "source": [
        "plt.plot(history_embedding.history['loss'],c='b',label='train loss')\n",
        "plt.plot(history_embedding.history['val_loss'],c='r',label='validation loss')\n",
        "plt.legend(loc='upper right')\n",
        "plt.ylabel(\"LOSS Value\")\n",
        "plt.xlabel(\"no.epoch\")\n",
        "plt.savefig(\"LSTM_LOSS_d2.png\")\n",
        "plt.show()"
      ]
    },
    {
      "cell_type": "code",
      "execution_count": null,
      "metadata": {
        "id": "e9miwak73EGW"
      },
      "outputs": [],
      "source": [
        "preds=model.predict(xvalid_pad)"
      ]
    },
    {
      "cell_type": "code",
      "execution_count": null,
      "metadata": {
        "colab": {
          "base_uri": "https://localhost:8080/"
        },
        "id": "_b_e6uQ-3EGW",
        "outputId": "a9e671ca-7702-4ce7-acaf-3e451213affb"
      },
      "outputs": [
        {
          "name": "stdout",
          "output_type": "stream",
          "text": [
            "0.2500595484348164\n",
            "0.5\n",
            "0.33338626107304026\n"
          ]
        },
        {
          "name": "stderr",
          "output_type": "stream",
          "text": [
            "/usr/local/lib/python3.7/dist-packages/sklearn/metrics/_classification.py:1318: UndefinedMetricWarning: Precision is ill-defined and being set to 0.0 in labels with no predicted samples. Use `zero_division` parameter to control this behavior.\n",
            "  _warn_prf(average, modifier, msg_start, len(result))\n"
          ]
        }
      ],
      "source": [
        "from sklearn.metrics import f1_score\n",
        "\n",
        "from sklearn.metrics import f1_score, precision_score, recall_score, confusion_matrix\n",
        "y_pred = np.argmax(preds, axis=1)\n",
        "\n",
        "# Print f1, precision, and recall scores\n",
        "print(precision_score(yvalid, y_pred , average=\"macro\"))\n",
        "print(recall_score(yvalid, y_pred , average=\"macro\"))\n",
        "print(f1_score(yvalid, y_pred , average=\"macro\"))"
      ]
    },
    {
      "cell_type": "code",
      "execution_count": null,
      "metadata": {
        "colab": {
          "base_uri": "https://localhost:8080/"
        },
        "id": "yKGkG2w8MQst",
        "outputId": "99edb30d-ab3f-46c4-aa02-e476d3f58c7f"
      },
      "outputs": [
        {
          "name": "stdout",
          "output_type": "stream",
          "text": [
            "Auc: 0.88%\n"
          ]
        }
      ],
      "source": [
        "scores = model.predict(xvalid_pad)\n",
        "print(\"Auc: %.2f%%\" % (roc_auc(scores,yvalid)))"
      ]
    },
    {
      "cell_type": "code",
      "execution_count": null,
      "metadata": {
        "id": "nstRWU1tNDNt"
      },
      "outputs": [],
      "source": [
        "scores_model = []\n",
        "scores_model.append({'Model': 'LSTM','AUC_Score': roc_auc(scores,yvalid)})"
      ]
    },
    {
      "cell_type": "code",
      "execution_count": null,
      "metadata": {
        "colab": {
          "base_uri": "https://localhost:8080/"
        },
        "id": "EwRae8CSNDQ0",
        "outputId": "b0738e13-fdaa-476c-8f4c-97b0e0c977c3"
      },
      "outputs": [
        {
          "name": "stdout",
          "output_type": "stream",
          "text": [
            "Model: \"sequential_3\"\n",
            "_________________________________________________________________\n",
            " Layer (type)                Output Shape              Param #   \n",
            "=================================================================\n",
            " embedding_3 (Embedding)     (None, 35, 300)           30197700  \n",
            "                                                                 \n",
            " spatial_dropout1d (SpatialD  (None, 35, 300)          0         \n",
            " ropout1D)                                                       \n",
            "                                                                 \n",
            " gru (GRU)                   (None, 300)               540900    \n",
            "                                                                 \n",
            " dense_3 (Dense)             (None, 1)                 301       \n",
            "                                                                 \n",
            "=================================================================\n",
            "Total params: 30,738,901\n",
            "Trainable params: 541,201\n",
            "Non-trainable params: 30,197,700\n",
            "_________________________________________________________________\n",
            "CPU times: user 634 ms, sys: 231 ms, total: 864 ms\n",
            "Wall time: 585 ms\n"
          ]
        }
      ],
      "source": [
        "#GRU\n",
        "%%time\n",
        "\n",
        "# GRU with glove embeddings and two dense layers\n",
        "model = Sequential()\n",
        "model.add(Embedding(len(word_index) + 1,300,weights=[embedding_matrix],input_length=max_len,trainable=False))\n",
        "model.add(SpatialDropout1D(0.3))\n",
        "model.add(GRU(300))\n",
        "model.add(Dense(1, activation='sigmoid'))\n",
        "\n",
        "model.compile(loss='binary_crossentropy', optimizer='adam',metrics=['accuracy'])   \n",
        "    \n",
        "model.summary()"
      ]
    },
    {
      "cell_type": "code",
      "execution_count": null,
      "metadata": {
        "id": "q2I9f6HMhBlf"
      },
      "outputs": [],
      "source": [
        "#EarlyStopping and ModelCheckpoint\n",
        "tf.random.set_seed(7)\n",
        "from keras.callbacks import EarlyStopping, ModelCheckpoint\n",
        "\n",
        "\n",
        "es = EarlyStopping(monitor = 'val_loss', mode = 'auto', verbose = 2, patience = 5)\n",
        "mc = ModelCheckpoint('./model.h5', monitor = 'val_accuracy', mode = 'max', verbose = 1, save_best_only = True)"
      ]
    },
    {
      "cell_type": "code",
      "execution_count": null,
      "metadata": {
        "colab": {
          "background_save": true,
          "base_uri": "https://localhost:8080/"
        },
        "id": "gf1cfRLShBlf",
        "outputId": "47f53dc2-16c6-4f7e-cf62-f6b8fbc4965c"
      },
      "outputs": [
        {
          "name": "stdout",
          "output_type": "stream",
          "text": [
            "Epoch 1/20\n",
            "2493/2493 [==============================] - ETA: 0s - loss: 0.5185 - accuracy: 0.7394\n",
            "Epoch 1: val_accuracy improved from -inf to 0.76805, saving model to ./model.h5\n",
            "2493/2493 [==============================] - 1391s 557ms/step - loss: 0.5185 - accuracy: 0.7394 - val_loss: 0.4786 - val_accuracy: 0.7680\n",
            "Epoch 2/20\n",
            "2493/2493 [==============================] - ETA: 0s - loss: 0.4691 - accuracy: 0.7738\n",
            "Epoch 2: val_accuracy improved from 0.76805 to 0.78080, saving model to ./model.h5\n",
            "2493/2493 [==============================] - 1364s 547ms/step - loss: 0.4691 - accuracy: 0.7738 - val_loss: 0.4574 - val_accuracy: 0.7808\n",
            "Epoch 3/20\n",
            "2493/2493 [==============================] - ETA: 0s - loss: 0.4474 - accuracy: 0.7879\n",
            "Epoch 3: val_accuracy improved from 0.78080 to 0.78487, saving model to ./model.h5\n",
            "2493/2493 [==============================] - 1361s 546ms/step - loss: 0.4474 - accuracy: 0.7879 - val_loss: 0.4525 - val_accuracy: 0.7849\n",
            "Epoch 4/20\n",
            "2493/2493 [==============================] - ETA: 0s - loss: 0.4296 - accuracy: 0.7982\n",
            "Epoch 4: val_accuracy improved from 0.78487 to 0.78594, saving model to ./model.h5\n",
            "2493/2493 [==============================] - 1359s 545ms/step - loss: 0.4296 - accuracy: 0.7982 - val_loss: 0.4533 - val_accuracy: 0.7859\n",
            "Epoch 5/20\n",
            "2493/2493 [==============================] - ETA: 0s - loss: 0.4129 - accuracy: 0.8081\n",
            "Epoch 5: val_accuracy improved from 0.78594 to 0.78633, saving model to ./model.h5\n",
            "2493/2493 [==============================] - 1363s 547ms/step - loss: 0.4129 - accuracy: 0.8081 - val_loss: 0.4554 - val_accuracy: 0.7863\n",
            "Epoch 6/20\n",
            "2493/2493 [==============================] - ETA: 0s - loss: 0.3986 - accuracy: 0.8159\n",
            "Epoch 6: val_accuracy did not improve from 0.78633\n",
            "2493/2493 [==============================] - 1394s 559ms/step - loss: 0.3986 - accuracy: 0.8159 - val_loss: 0.4632 - val_accuracy: 0.7853\n",
            "Epoch 7/20\n",
            "2493/2493 [==============================] - ETA: 0s - loss: 0.3871 - accuracy: 0.8219\n",
            "Epoch 7: val_accuracy did not improve from 0.78633\n",
            "2493/2493 [==============================] - 1388s 557ms/step - loss: 0.3871 - accuracy: 0.8219 - val_loss: 0.4678 - val_accuracy: 0.7829\n",
            "Epoch 8/20\n",
            "2493/2493 [==============================] - ETA: 0s - loss: 0.3746 - accuracy: 0.8288\n",
            "Epoch 8: val_accuracy did not improve from 0.78633\n",
            "2493/2493 [==============================] - 1389s 557ms/step - loss: 0.3746 - accuracy: 0.8288 - val_loss: 0.4753 - val_accuracy: 0.7814\n",
            "Epoch 8: early stopping\n",
            "CPU times: user 5h 20min 5s, sys: 16min 55s, total: 5h 37min\n",
            "Wall time: 3h 3min 28s\n"
          ]
        }
      ],
      "source": [
        "%%time\n",
        "history_embedding = model.fit(xtrain_pad,ytrain, epochs = 20, batch_size = 128,\n",
        "                              validation_data=(xvalid_pad, yvalid),verbose = 1, callbacks= [es, mc]  )"
      ]
    },
    {
      "cell_type": "code",
      "execution_count": null,
      "metadata": {
        "id": "gI9ax_J6hBlg"
      },
      "outputs": [],
      "source": [
        "plt.plot(history_embedding.history['accuracy'],c='b',label='train accuracy')\n",
        "plt.plot(history_embedding.history['val_accuracy'],c='r',label='validation accuracy')\n",
        "plt.legend(loc='lower right')\n",
        "plt.ylabel(\"Accuracy Value\")\n",
        "plt.xlabel(\"no.epoch\")\n",
        "plt.savefig(\"GRU_Acc_d2.png\")\n",
        "plt.show()"
      ]
    },
    {
      "cell_type": "code",
      "execution_count": null,
      "metadata": {
        "id": "0piuEXfphBlg"
      },
      "outputs": [],
      "source": [
        "plt.plot(history_embedding.history['loss'],c='b',label='train loss')\n",
        "plt.plot(history_embedding.history['val_loss'],c='r',label='validation loss')\n",
        "plt.legend(loc='upper right')\n",
        "plt.ylabel(\"LOSS Value\")\n",
        "plt.xlabel(\"no.epoch\")\n",
        "plt.savefig(\"GRU_LOSS_d2.png\")\n",
        "plt.show()"
      ]
    },
    {
      "cell_type": "code",
      "execution_count": null,
      "metadata": {
        "id": "DU7GftOfOCsg"
      },
      "outputs": [],
      "source": [
        "#bidirectional"
      ]
    },
    {
      "cell_type": "code",
      "execution_count": null,
      "metadata": {
        "colab": {
          "base_uri": "https://localhost:8080/"
        },
        "id": "cSRgo0ZIN7Zq",
        "outputId": "d92b964e-8fb9-4d15-d5dc-78bf9441fad8"
      },
      "outputs": [
        {
          "name": "stdout",
          "output_type": "stream",
          "text": [
            "Model: \"sequential\"\n",
            "_________________________________________________________________\n",
            " Layer (type)                Output Shape              Param #   \n",
            "=================================================================\n",
            " embedding (Embedding)       (None, 35, 300)           30197700  \n",
            "                                                                 \n",
            " bidirectional (Bidirectiona  (None, 200)              320800    \n",
            " l)                                                              \n",
            "                                                                 \n",
            " dense (Dense)               (None, 1)                 201       \n",
            "                                                                 \n",
            "=================================================================\n",
            "Total params: 30,518,701\n",
            "Trainable params: 321,001\n",
            "Non-trainable params: 30,197,700\n",
            "_________________________________________________________________\n",
            "CPU times: user 1.06 s, sys: 352 ms, total: 1.41 s\n",
            "Wall time: 1.28 s\n"
          ]
        }
      ],
      "source": [
        "%%time\n",
        "\n",
        "# A simple bidirectional LSTM with glove embeddings and one dense layer\n",
        "model = Sequential()\n",
        "model.add(Embedding(len(word_index) + 1,\n",
        "                     300,\n",
        "                     weights=[embedding_matrix],\n",
        "                     input_length=max_len,\n",
        "                     trainable=False))\n",
        "model.add(Bidirectional(LSTM(100, dropout=0.3, recurrent_dropout=0.3)))\n",
        "\n",
        "model.add(Dense(1,activation='sigmoid'))\n",
        "model.compile(loss='binary_crossentropy', optimizer='adam',metrics=['accuracy'])\n",
        "    \n",
        "    \n",
        "model.summary()"
      ]
    },
    {
      "cell_type": "code",
      "execution_count": null,
      "metadata": {
        "id": "BDoxEEqNDN33"
      },
      "outputs": [],
      "source": [
        ""
      ]
    },
    {
      "cell_type": "code",
      "execution_count": null,
      "metadata": {
        "id": "1oPKVGNWDOdv"
      },
      "outputs": [],
      "source": [
        "#EarlyStopping and ModelCheckpoint\n",
        "tf.random.set_seed(7)\n",
        "from keras.callbacks import EarlyStopping, ModelCheckpoint\n",
        "\n",
        "\n",
        "es = EarlyStopping(monitor = 'val_loss', mode = 'auto', verbose = 2, patience = 5)\n",
        "mc = ModelCheckpoint('./model.h5', monitor = 'val_accuracy', mode = 'max', verbose = 1, save_best_only = True)"
      ]
    },
    {
      "cell_type": "code",
      "execution_count": null,
      "metadata": {
        "colab": {
          "background_save": true,
          "base_uri": "https://localhost:8080/"
        },
        "id": "-9UBcfg_DOdw",
        "outputId": "e321655e-c8a3-4145-a9e8-09abf56c0a45"
      },
      "outputs": [
        {
          "name": "stdout",
          "output_type": "stream",
          "text": [
            "Epoch 1/20\n",
            "2493/2493 [==============================] - ETA: 0s - loss: 0.5214 - accuracy: 0.7378\n",
            "Epoch 1: val_accuracy improved from -inf to 0.76833, saving model to ./model.h5\n",
            "2493/2493 [==============================] - 1323s 527ms/step - loss: 0.5214 - accuracy: 0.7378 - val_loss: 0.4793 - val_accuracy: 0.7683\n",
            "Epoch 2/20\n",
            "2493/2493 [==============================] - ETA: 0s - loss: 0.4764 - accuracy: 0.7699\n",
            "Epoch 2: val_accuracy improved from 0.76833 to 0.77808, saving model to ./model.h5\n",
            "2493/2493 [==============================] - 1321s 530ms/step - loss: 0.4764 - accuracy: 0.7699 - val_loss: 0.4635 - val_accuracy: 0.7781\n",
            "Epoch 3/20\n",
            "2493/2493 [==============================] - ETA: 0s - loss: 0.4593 - accuracy: 0.7805\n",
            "Epoch 3: val_accuracy improved from 0.77808 to 0.78269, saving model to ./model.h5\n",
            "2493/2493 [==============================] - 1317s 528ms/step - loss: 0.4593 - accuracy: 0.7805 - val_loss: 0.4555 - val_accuracy: 0.7827\n",
            "Epoch 4/20\n",
            "2493/2493 [==============================] - ETA: 0s - loss: 0.4490 - accuracy: 0.7861\n",
            "Epoch 4: val_accuracy improved from 0.78269 to 0.78752, saving model to ./model.h5\n",
            "2493/2493 [==============================] - 1312s 526ms/step - loss: 0.4490 - accuracy: 0.7861 - val_loss: 0.4528 - val_accuracy: 0.7875\n",
            "Epoch 5/20\n",
            "2493/2493 [==============================] - ETA: 0s - loss: 0.4399 - accuracy: 0.7923\n",
            "Epoch 5: val_accuracy improved from 0.78752 to 0.79004, saving model to ./model.h5\n",
            "2493/2493 [==============================] - 1315s 527ms/step - loss: 0.4399 - accuracy: 0.7923 - val_loss: 0.4504 - val_accuracy: 0.7900\n",
            "Epoch 6/20\n",
            "2493/2493 [==============================] - ETA: 0s - loss: 0.4320 - accuracy: 0.7965\n",
            "Epoch 6: val_accuracy did not improve from 0.79004\n",
            "2493/2493 [==============================] - 1312s 526ms/step - loss: 0.4320 - accuracy: 0.7965 - val_loss: 0.4538 - val_accuracy: 0.7870\n",
            "Epoch 7/20\n",
            "2493/2493 [==============================] - ETA: 0s - loss: 0.4262 - accuracy: 0.8007\n",
            "Epoch 7: val_accuracy did not improve from 0.79004\n",
            "2493/2493 [==============================] - 1320s 529ms/step - loss: 0.4262 - accuracy: 0.8007 - val_loss: 0.4524 - val_accuracy: 0.7899\n",
            "Epoch 8/20\n",
            "2493/2493 [==============================] - ETA: 0s - loss: 0.4215 - accuracy: 0.8035\n",
            "Epoch 8: val_accuracy improved from 0.79004 to 0.79038, saving model to ./model.h5\n",
            "2493/2493 [==============================] - 1315s 527ms/step - loss: 0.4215 - accuracy: 0.8035 - val_loss: 0.4496 - val_accuracy: 0.7904\n",
            "Epoch 9/20\n",
            "2493/2493 [==============================] - ETA: 0s - loss: 0.4160 - accuracy: 0.8062\n",
            "Epoch 9: val_accuracy did not improve from 0.79038\n",
            "2493/2493 [==============================] - 1303s 523ms/step - loss: 0.4160 - accuracy: 0.8062 - val_loss: 0.4510 - val_accuracy: 0.7902\n",
            "Epoch 10/20\n",
            "2493/2493 [==============================] - ETA: 0s - loss: 0.4113 - accuracy: 0.8095\n",
            "Epoch 10: val_accuracy did not improve from 0.79038\n",
            "2493/2493 [==============================] - 1315s 527ms/step - loss: 0.4113 - accuracy: 0.8095 - val_loss: 0.4536 - val_accuracy: 0.7894\n",
            "Epoch 11/20\n",
            "2493/2493 [==============================] - ETA: 0s - loss: 0.4073 - accuracy: 0.8117\n",
            "Epoch 11: val_accuracy improved from 0.79038 to 0.79065, saving model to ./model.h5\n",
            "2493/2493 [==============================] - 1370s 549ms/step - loss: 0.4073 - accuracy: 0.8117 - val_loss: 0.4573 - val_accuracy: 0.7907\n",
            "Epoch 12/20\n",
            "2493/2493 [==============================] - ETA: 0s - loss: 0.4036 - accuracy: 0.8131\n",
            "Epoch 12: val_accuracy did not improve from 0.79065\n",
            "2493/2493 [==============================] - 1358s 545ms/step - loss: 0.4036 - accuracy: 0.8131 - val_loss: 0.4625 - val_accuracy: 0.7886\n",
            "Epoch 13/20\n",
            " 610/2493 [======>.......................] - ETA: 16:26 - loss: 0.3952 - accuracy: 0.8181"
          ]
        }
      ],
      "source": [
        "%%time\n",
        "history_embedding = model.fit(xtrain_pad,ytrain, epochs = 20, batch_size = 128,\n",
        "                              validation_data=(xvalid_pad, yvalid),verbose = 1, callbacks= [es, mc]  )"
      ]
    },
    {
      "cell_type": "code",
      "execution_count": null,
      "metadata": {
        "id": "IiE2Wnn9DOdx"
      },
      "outputs": [],
      "source": [
        "plt.plot(history_embedding.history['accuracy'],c='b',label='train accuracy')\n",
        "plt.plot(history_embedding.history['val_accuracy'],c='r',label='validation accuracy')\n",
        "plt.legend(loc='lower right')\n",
        "plt.ylabel(\"Accuracy Value\")\n",
        "plt.xlabel(\"no.epoch\")\n",
        "plt.savefig(\"bi_Acc_d2.png\")\n",
        "plt.show()"
      ]
    },
    {
      "cell_type": "code",
      "execution_count": null,
      "metadata": {
        "id": "abplakqXDOdx"
      },
      "outputs": [],
      "source": [
        "plt.plot(history_embedding.history['loss'],c='b',label='train loss')\n",
        "plt.plot(history_embedding.history['val_loss'],c='r',label='validation loss')\n",
        "plt.legend(loc='upper right')\n",
        "plt.ylabel(\"LOSS Value\")\n",
        "plt.xlabel(\"no.epoch\")\n",
        "plt.savefig(\"bi_LOSS_d2.png\")\n",
        "plt.show()"
      ]
    },
    {
      "cell_type": "code",
      "execution_count": null,
      "metadata": {
        "id": "YnYLo1mON7ii"
      },
      "outputs": [],
      "source": [
        "scores = model.predict(xvalid_pad)\n",
        "print(\"Auc: %.2f%%\" % (roc_auc(scores,yvalid)))"
      ]
    },
    {
      "cell_type": "code",
      "execution_count": null,
      "metadata": {
        "id": "htFZjtHHOPoP"
      },
      "outputs": [],
      "source": [
        "scores_model.append({'Model': 'Bi-directional LSTM','AUC_Score': roc_auc(scores,yvalid)})"
      ]
    },
    {
      "cell_type": "code",
      "execution_count": null,
      "metadata": {
        "id": "mJ40GIkKOPsi"
      },
      "outputs": [],
      "source": [
        "# Visualization of Results obtained from various Deep learning models\n",
        "results = pd.DataFrame(scores_model).sort_values(by='AUC_Score',ascending=False)\n",
        "results.style.background_gradient(cmap='Blues')"
      ]
    },
    {
      "cell_type": "code",
      "execution_count": null,
      "metadata": {
        "id": "6j7igo7aTN_N"
      },
      "outputs": [],
      "source": [
        ""
      ]
    }
  ],
  "metadata": {
    "colab": {
      "collapsed_sections": [],
      "name": "deep learning models for stanford_sentiment classification.ipynb",
      "provenance": [],
      "authorship_tag": "ABX9TyM4apN654vLGpnmlzBQbSAu",
      "include_colab_link": true
    },
    "kernelspec": {
      "display_name": "Python 3",
      "name": "python3"
    },
    "language_info": {
      "name": "python"
    }
  },
  "nbformat": 4,
  "nbformat_minor": 0
}